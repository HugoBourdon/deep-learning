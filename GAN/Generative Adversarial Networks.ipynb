{
  "cells": [
    {
      "cell_type": "markdown",
      "metadata": {
        "id": "9zwlaGGD6Ci9"
      },
      "source": [
        "# Generative Adversarial Networks (GAN)\n",
        "\n",
        "<a rel=\"license\" href=\"http://creativecommons.org/licenses/by-nc-sa/4.0/\"><img alt=\"Creative Commons License\" align=\"left\" src=\"https://i.creativecommons.org/l/by-nc-sa/4.0/80x15.png\" /></a>&nbsp;| Dennis G. Wilson | <a href=\"https://supaerodatascience.github.io/deep-learning/\">https://supaerodatascience.github.io/deep-learning/</a>\n",
        "\n",
        "adapted from the GAN class of Thomas Pierrot"
      ]
    },
    {
      "cell_type": "markdown",
      "metadata": {
        "id": "HGJiPdEc6CjD"
      },
      "source": [
        "<div class=\"alert alert-warning\">\n",
        "<b>Warning :</b>\n",
        "This notebook is heavy on computational resources. Depending on your personal machine, it might be better to run it on <a href=\"https://colab.research.google.com/github/SupaeroDataScience/deep-learning/blob/main/GAN/Generative%20Adversarial%20Networks.ipynb\">Colab</a>.\n",
        "</div>"
      ]
    },
    {
      "cell_type": "code",
      "execution_count": 1,
      "metadata": {
        "id": "id7jJLZ96CjF"
      },
      "outputs": [],
      "source": [
        "%matplotlib inline\n",
        "import itertools\n",
        "import math\n",
        "import time\n",
        "import os\n",
        "import torch\n",
        "import torch.nn as nn\n",
        "import torchvision\n",
        "from torchvision import transforms\n",
        "import matplotlib.pyplot as plt\n",
        "from IPython import display\n",
        "from torch.autograd import Variable"
      ]
    },
    {
      "cell_type": "markdown",
      "metadata": {
        "id": "V5aCshmR6CjI"
      },
      "source": [
        "### The goal of GANs\n",
        "\n",
        "<b>Generative Adversarial Networks (GAN)</b> are a framework for generating new data which follows an existing distribution. This is often used with images is to generate images which look real, but which don't exist in the training set. The example we'll use today is the MNIST dataset, so we will generate new images which look like handwritten digits but which are created by a neural network."
      ]
    },
    {
      "cell_type": "markdown",
      "metadata": {
        "id": "dXIKSvrL6CjJ"
      },
      "source": [
        "<img src=\"https://github.com/HugoBourdon/deep-learning/blob/workGAN/GAN/img/distributions.png?raw=1\">\n",
        "\n",
        "Goodfellow, Ian, et al. \"Generative adversarial nets.\" Advances in neural information processing systems. 2014. [pdf](https://arxiv.org/pdf/1406.2661.pdf)"
      ]
    },
    {
      "cell_type": "markdown",
      "metadata": {
        "id": "vbnAAs2f6CjL"
      },
      "source": [
        "In this framework, two assumptions have to be made:\n",
        "+ All the data from the training dataset is assumed to follow the same probability distribution noted $p_{data}$. In other words, if the MNIST database is considered, all the 28x28 matrices which represent hand-written numbers are assumed to follow the same probability distribution."
      ]
    },
    {
      "cell_type": "markdown",
      "metadata": {
        "id": "tmqS75Ls6CjM"
      },
      "source": [
        "+ The database is assumed large enough that the probability distribution obtained represent well and only those data. In other words, if new sample can be generated from this distribution, they should look like the other elements of the database. In the case of the MNIST database, if new 28x28 matrices may be generated from the distribution $p_{data}$, then they should still represent hand-written numbers."
      ]
    },
    {
      "cell_type": "markdown",
      "metadata": {
        "id": "sFb6Ngs-6CjM"
      },
      "source": [
        "## Example: MNIST\n",
        "\n",
        "We'll use the MNIST dataset for the exercise today. We'll download this dataset and make batching data loaders."
      ]
    },
    {
      "cell_type": "code",
      "execution_count": 2,
      "metadata": {
        "id": "U4kytfrP6CjN",
        "outputId": "eb08e322-908e-4b38-e025-d4eb078fdd50",
        "colab": {
          "base_uri": "https://localhost:8080/",
          "height": 423,
          "referenced_widgets": [
            "cf3a652d68d64af5a898238584b2463c",
            "6212c5334e9a4456b2811ba851e2a3e4",
            "32e3db15c3b7403db6a57c97b70d9cea",
            "4e3bd4ae93c94a68be2a6558b001222b",
            "ee0ca3e0c5b34356a1b3b70a3e03c9d2",
            "78251e3416414deaab5b8af17652c7f4",
            "1af04a1426ae4a3f95d7e23899dce116",
            "380062ce27f1487d82487af1a0a3b162",
            "fce6ef014c934085a7be9914f9d358be",
            "4430606a06244a64b84d0f50fa2e2080",
            "4faf8e0e1df44ed19df5da4b6e9383b7",
            "ece40540ca9a481d994e7a127366cbed",
            "0f516cc726eb45d28f046e3d709c2544",
            "c581b3573caf429b894e1c110b69e515",
            "4fd62c7b3f844b88870351e886bc31dd",
            "b4f4b8f7de21416296b5a687d4ca03ac",
            "383236b47ed94646a6d5ab9a08325406",
            "9395a45de78041088fc7b413b39fb205",
            "51a6a858f6944ee9b385fda0cf30ca48",
            "b1c3b75785cc443e9f6c60f73556cc94",
            "cadf79e5fc6247c3bd07afb107c3da97",
            "390d10b56dfd483683c283507e23ce23",
            "eaa9e1a187ef493f8c9fb0a384c10969",
            "8a6551727d68464099249faf081562dc",
            "7c01a4665c7d4edf8515edde29c85934",
            "3b7104147efa442cb5a5ef4372fc810e",
            "66e7a372a1454851966b30333cec1d8c",
            "70c3c92556fb462399e201e065cb2d42",
            "0d139151fb6e428e869f9a180ca9b817",
            "cfe7999e161c4fbf9c2deef7ab86d17b",
            "3a370e6f805e4b36b0375017f82e3f82",
            "7f4a3152e1cf41c4843c37d13eb1d369",
            "e7b9f133017f4bcea35429ecba219567",
            "a7a99bc909fd4e47b3dafce2584be4e0",
            "c031622cecd849e3a348830d6e4d4907",
            "d3528305a3bd4ae6aa9f3e8d45728899",
            "b589ab1068f647209a28dae2871a0629",
            "4fcf0d4ec494401598b0d301d99e4869",
            "d707ca14f80246058734f18d199aef00",
            "d7e26b5061e84a2b80c0ef0b10cd9f0c",
            "eb293f8ad539473d8b6fbdef9202e0f8",
            "36e8dcfa8bf14d43ab171acd5b67d7bc",
            "1f249e70903e4b1aa5c56dcc1bc386e1",
            "6284d5f7ed964b429a26b5bdb84c1ef5"
          ]
        }
      },
      "outputs": [
        {
          "output_type": "stream",
          "name": "stdout",
          "text": [
            "Downloading http://yann.lecun.com/exdb/mnist/train-images-idx3-ubyte.gz\n",
            "Downloading http://yann.lecun.com/exdb/mnist/train-images-idx3-ubyte.gz to ../data/MNIST/raw/train-images-idx3-ubyte.gz\n"
          ]
        },
        {
          "output_type": "display_data",
          "data": {
            "application/vnd.jupyter.widget-view+json": {
              "model_id": "cf3a652d68d64af5a898238584b2463c",
              "version_minor": 0,
              "version_major": 2
            },
            "text/plain": [
              "  0%|          | 0/9912422 [00:00<?, ?it/s]"
            ]
          },
          "metadata": {}
        },
        {
          "output_type": "stream",
          "name": "stdout",
          "text": [
            "Extracting ../data/MNIST/raw/train-images-idx3-ubyte.gz to ../data/MNIST/raw\n",
            "\n",
            "Downloading http://yann.lecun.com/exdb/mnist/train-labels-idx1-ubyte.gz\n",
            "Downloading http://yann.lecun.com/exdb/mnist/train-labels-idx1-ubyte.gz to ../data/MNIST/raw/train-labels-idx1-ubyte.gz\n"
          ]
        },
        {
          "output_type": "display_data",
          "data": {
            "application/vnd.jupyter.widget-view+json": {
              "model_id": "ece40540ca9a481d994e7a127366cbed",
              "version_minor": 0,
              "version_major": 2
            },
            "text/plain": [
              "  0%|          | 0/28881 [00:00<?, ?it/s]"
            ]
          },
          "metadata": {}
        },
        {
          "output_type": "stream",
          "name": "stdout",
          "text": [
            "Extracting ../data/MNIST/raw/train-labels-idx1-ubyte.gz to ../data/MNIST/raw\n",
            "\n",
            "Downloading http://yann.lecun.com/exdb/mnist/t10k-images-idx3-ubyte.gz\n",
            "Downloading http://yann.lecun.com/exdb/mnist/t10k-images-idx3-ubyte.gz to ../data/MNIST/raw/t10k-images-idx3-ubyte.gz\n"
          ]
        },
        {
          "output_type": "display_data",
          "data": {
            "application/vnd.jupyter.widget-view+json": {
              "model_id": "eaa9e1a187ef493f8c9fb0a384c10969",
              "version_minor": 0,
              "version_major": 2
            },
            "text/plain": [
              "  0%|          | 0/1648877 [00:00<?, ?it/s]"
            ]
          },
          "metadata": {}
        },
        {
          "output_type": "stream",
          "name": "stdout",
          "text": [
            "Extracting ../data/MNIST/raw/t10k-images-idx3-ubyte.gz to ../data/MNIST/raw\n",
            "\n",
            "Downloading http://yann.lecun.com/exdb/mnist/t10k-labels-idx1-ubyte.gz\n",
            "Downloading http://yann.lecun.com/exdb/mnist/t10k-labels-idx1-ubyte.gz to ../data/MNIST/raw/t10k-labels-idx1-ubyte.gz\n"
          ]
        },
        {
          "output_type": "display_data",
          "data": {
            "application/vnd.jupyter.widget-view+json": {
              "model_id": "a7a99bc909fd4e47b3dafce2584be4e0",
              "version_minor": 0,
              "version_major": 2
            },
            "text/plain": [
              "  0%|          | 0/4542 [00:00<?, ?it/s]"
            ]
          },
          "metadata": {}
        },
        {
          "output_type": "stream",
          "name": "stdout",
          "text": [
            "Extracting ../data/MNIST/raw/t10k-labels-idx1-ubyte.gz to ../data/MNIST/raw\n",
            "\n"
          ]
        }
      ],
      "source": [
        "# set batch_size\n",
        "batch_size = 128\n",
        "\n",
        "# the data, shuffled and split between train and test sets\n",
        "# we normalize data to have values between -1 and 1\n",
        "transform = transforms.Compose([\n",
        "        transforms.ToTensor(),\n",
        "        transforms.Normalize(mean=[0.5], std=[0.5]) ])\n",
        "\n",
        "train_dataset = torchvision.datasets.MNIST(root='../data/', train=True, download=True, transform=transform)\n",
        "train_loader = torch.utils.data.DataLoader(train_dataset, batch_size=batch_size, shuffle=True)\n",
        "train_iterator = iter(train_loader)"
      ]
    },
    {
      "cell_type": "markdown",
      "metadata": {
        "id": "jY8cE35l6CjP"
      },
      "source": [
        "As a reminder, let's look at some example digits from the MNIST set."
      ]
    },
    {
      "cell_type": "code",
      "execution_count": 3,
      "metadata": {
        "scrolled": true,
        "id": "ZsL0-dba6CjR",
        "outputId": "0b931b12-48c8-469f-d58f-ca4fbe4e2987",
        "colab": {
          "base_uri": "https://localhost:8080/",
          "height": 361
        }
      },
      "outputs": [
        {
          "output_type": "display_data",
          "data": {
            "image/png": "[encoded data removed]",
            "text/plain": [
              "<Figure size 432x432 with 16 Axes>"
            ]
          },
          "metadata": {
            "needs_background": "light"
          }
        }
      ],
      "source": [
        "num_test_samples = 16 # number of digits to plot\n",
        "\n",
        "# create figure for plotting\n",
        "size_figure_grid = int(math.sqrt(num_test_samples))\n",
        "fig, ax = plt.subplots(size_figure_grid, size_figure_grid, figsize=(6, 6))\n",
        "for i, j in itertools.product(range(size_figure_grid), range(size_figure_grid)):\n",
        "    ax[i,j].get_xaxis().set_visible(False)\n",
        "    ax[i,j].get_yaxis().set_visible(False)\n",
        "\n",
        "# load a batch of training data\n",
        "images, labels = next(train_iterator)\n",
        "\n",
        "# show a subpart of it\n",
        "for k in range(num_test_samples):\n",
        "    i = k//4\n",
        "    j = k%4\n",
        "    ax[i,j].cla()\n",
        "    ax[i,j].imshow(images[k,:].data.cpu().numpy().reshape(28, 28), cmap='Greys')\n",
        "    display.clear_output(wait=True)"
      ]
    },
    {
      "cell_type": "markdown",
      "metadata": {
        "id": "aLfSQjHY6CjS"
      },
      "source": [
        "The task for today is to learn to generate new images which look like these."
      ]
    },
    {
      "cell_type": "markdown",
      "metadata": {
        "id": "g7Xt2d7h6CjS"
      },
      "source": [
        "## The Generator\n",
        "\n",
        "<img src=\"https://github.com/HugoBourdon/deep-learning/blob/workGAN/GAN/img/generator_schema.png?raw=1\">\n",
        "\n",
        "One network - called the <b>Generator</b>- is built and is meant to transform vectors following a random probability distribution $p_z$ - called noise probability distribution - in vectors following natural data distribution $p_{data}$."
      ]
    },
    {
      "cell_type": "markdown",
      "metadata": {
        "id": "VGcSKoeR6CjT"
      },
      "source": [
        "To follow the MNIST example, the generator will take as input vectors of real numbers following a gaussian distribution, $p_z$ and should output a 28x28 matrix whose values follow the data probability distribution followed by MNIST images, $p_{data}$. Hence, that network role would be to transform a gaussian distribution into a probability distribution represented by the data."
      ]
    },
    {
      "cell_type": "markdown",
      "metadata": {
        "id": "CxgES4AB6CjT"
      },
      "source": [
        "## The Discriminator\n",
        "\n",
        "<img src=\"https://github.com/HugoBourdon/deep-learning/blob/workGAN/GAN/img/discriminator_schema.png?raw=1\">\n",
        "\n",
        "To train the generator, we use a second network called the **Discriminator**. The role of this network is to learn the data distribution $p_{data}$ in order to classify if a sample comes from this distribution or not."
      ]
    },
    {
      "cell_type": "markdown",
      "metadata": {
        "id": "fEwGbRqY6CjT"
      },
      "source": [
        "The <b>Discriminator</b>'s goal is to differentiate between samples following the real data probability distribution and samples generated by the generator. It takes as an input either a real sample or a sample output from the generator and is trained to return the likelihood of the image being real. In the maximum, the discriminator is expected to return 1 when it is given an image from the training dataset and to return 0 when it is given an image generated by the generator."
      ]
    },
    {
      "cell_type": "markdown",
      "metadata": {
        "id": "SQAGve2q6CjU"
      },
      "source": [
        "The **adversarial** aspect of the networks comes from the training methods. The generator is trained to fool the discriminator : ie to make it return 1 for generated samples. The networks play a 2-player minimax game. At the equilibrium, the discriminator should always return 0.5 : it cannot make the difference between real and fake samples anymore, hence the fake samples follow the same probability distribution than real ones. The generator is trained towards this result and ends up producing realistic results."
      ]
    },
    {
      "cell_type": "markdown",
      "metadata": {
        "id": "z6Upkmqv6CjV"
      },
      "source": [
        "To get a better understanding, let us call G the generator, D the discriminator, $z$ a variable following the noise probability distribution $p_z$ and $x$ a variable following the data probability distribution $p_{data}$. Let us call as well $p_g$ the probability distribution followed by G’s outputs : $G(z)$. Then the generator's goal is to fool the discriminator returning real-like samples which means equalizing $p_g \\approx p_{data}$."
      ]
    },
    {
      "cell_type": "markdown",
      "metadata": {
        "id": "2EP8sWgX6CjV"
      },
      "source": [
        "The discriminator is trained to return $1$ for real data : $D(x) = 1$ and $0$ for fake data $D(G(z)) = 0$ while the generator is trained to make the discriminator returning $1$ as well for fake data. Hence, D and G play the two-player minimax game with value function $V(G, D)$:\n",
        "\n",
        "$$\\min_{G} \\max_{D} V(D,G)  = \\mathbb{E}_{x\\sim p_{data}}[log D(x)] + \\mathbb{E}_{z\\sim p_{z}}[log(1 - D(G(z)))]$$"
      ]
    },
    {
      "cell_type": "markdown",
      "metadata": {
        "id": "rfPB_bjm6CjW"
      },
      "source": [
        "The implementation of this game results in the following algorithm, described in the original GAN paper:\n",
        "\n",
        "<img src=\"https://github.com/HugoBourdon/deep-learning/blob/workGAN/GAN/img/gan_algo.png?raw=1\" style=\"max-width:100%; width: 70%\">"
      ]
    },
    {
      "cell_type": "markdown",
      "metadata": {
        "id": "aP79cFiW6CjW"
      },
      "source": [
        "# GANs in Practice\n"
      ]
    },
    {
      "cell_type": "markdown",
      "metadata": {
        "id": "B4muIZBz6CjW"
      },
      "source": [
        "### Build the neural networks\n",
        "\n",
        "We now build both the networks. In this notebook, as in the original paper, both will be simple fully connected network.\n",
        "\n",
        "<img src=\"https://github.com/HugoBourdon/deep-learning/blob/workGAN/GAN/img/schema_gan_mnist.png?raw=1\" style=\"max-width:100%; width: 70%\">\n"
      ]
    },
    {
      "cell_type": "markdown",
      "metadata": {
        "id": "UPirSvPR6CjW"
      },
      "source": [
        "We'll start with a simple **Discriminator** model of feed-forward LeakyReLU units. We'll also add Dropout at each layer."
      ]
    },
    {
      "cell_type": "code",
      "execution_count": 4,
      "metadata": {
        "id": "RR6J6KWw6CjX"
      },
      "outputs": [],
      "source": [
        "class Discriminator(nn.Module):\n",
        "    def __init__(self):\n",
        "        super().__init__()\n",
        "        self.model = nn.Sequential(\n",
        "            nn.Linear(784, 1024),\n",
        "            nn.LeakyReLU(0.2, inplace=True),\n",
        "            nn.Dropout(0.3),\n",
        "            nn.Linear(1024, 512),\n",
        "            nn.LeakyReLU(0.2, inplace=True),\n",
        "            nn.Dropout(0.3),\n",
        "            nn.Linear(512, 256),\n",
        "            nn.LeakyReLU(0.2, inplace=True),\n",
        "            nn.Dropout(0.3),\n",
        "            nn.Linear(256, 1),\n",
        "            nn.Sigmoid()\n",
        "        )\n",
        "    \n",
        "    def forward(self, x):\n",
        "        out = self.model(x.view(x.size(0), 784))\n",
        "        out = out.view(out.size(0), -1)\n",
        "        return out"
      ]
    },
    {
      "cell_type": "code",
      "source": [
        "class Discriminator(nn.Module): ##convolutionnal mdr\n",
        "    def __init__(self):\n",
        "      model = nn.Sequential(\n",
        "      # A block of 2 convolutions + non linearities & a pooling layers\n",
        "      # IN SHAPE (1,28,28)\n",
        "      nn.Conv2d(in_channels=1, out_channels=64, kernel_size=3,padding=\"same\"),\n",
        "      # OUT SHAPE (64,28,28)\n",
        "      nn.MaxPool2d(2),\n",
        "      # OUT SHAPE (64,14,14)\n",
        "      nn.ReLU(),\n",
        "      # IN SHAPE (64,14,14)\n",
        "      nn.Conv2d(in_channels=64, out_channels=128, kernel_size=3, padding=\"same\"),\n",
        "      # OUT SHAPE (128,14,14)\n",
        "      nn.ReLU(),\n",
        "      nn.MaxPool2d(2),\n",
        "      # OUT SHAPE (128,7,7)\n",
        "      # Another stack of these\n",
        "      nn.Conv2d(in_channels=128, out_channels=256, kernel_size=3, padding=\"same\"),\n",
        "      # OUT SHAPE (256,7,7)\n",
        "      nn.ReLU(),\n",
        "      nn.MaxPool2d(2,padding='same'), #on passe de 7 a 4 apparemment\n",
        "      # OUT SHAPE (256,4,4)\n",
        "      nn.Conv2d(in_channels=256, out_channels=512, kernel_size=3,padding='same'),\n",
        "      nn.ReLU(),\n",
        "      # OUT SHAPE (512,4,4)\n",
        "      # A final classifier\n",
        "      nn.Flatten(),\n",
        "      nn.Linear(in_features=4 * 4 * 512, out_features=1), # do you understand why 4 * 4 * 64 ?\n",
        "      nn.Sigmoid(),\n",
        ")\n",
        "    \n",
        "    def forward(self, x):\n",
        "        out = self.model(x.view(x.size(0), 784))\n",
        "        out = out.view(out.size(0), -1)\n",
        "        return out"
      ],
      "metadata": {
        "id": "sBfHqkEbVpGY"
      },
      "execution_count": 28,
      "outputs": []
    },
    {
      "cell_type": "markdown",
      "metadata": {
        "id": "JVD1mF336CjX"
      },
      "source": [
        "<div class=\"alert alert-success\">\n",
        "    <h2>Exercise 1</h2>\n",
        "\n",
        "Write the generator code. It should take a vector of size 100 as input and output a flattened vector of 784 pixels. You can use feed-forward layers, similar to the Discriminator. What activation function should the final layer have? Consider that it is supposed to output black and white pixel values.\n",
        "    \n",
        "</div>"
      ]
    },
    {
      "cell_type": "code",
      "execution_count": 29,
      "metadata": {
        "id": "pESw3PHe6CjX"
      },
      "outputs": [],
      "source": [
        "#%load solutions/1_generator.py"
      ]
    },
    {
      "cell_type": "code",
      "source": [
        "class Generator(nn.Module):\n",
        "    def __init__(self):\n",
        "        super().__init__()\n",
        "        self.model = nn.Sequential(\n",
        "            nn.Linear(100, 256),\n",
        "            nn.LeakyReLU(0.2, inplace=True),\n",
        "            nn.Linear(256, 512),\n",
        "            nn.LeakyReLU(0.2, inplace=True),\n",
        "            nn.Linear(512, 1024),\n",
        "            nn.LeakyReLU(0.2, inplace=True),\n",
        "            nn.Linear(1024, 784),\n",
        "            nn.Tanh()\n",
        "        )\n",
        "    \n",
        "    def forward(self, x):\n",
        "        x = x.view(x.size(0), 100)\n",
        "        out = self.model(x)\n",
        "        return out"
      ],
      "metadata": {
        "id": "ux7DE4Fl_NYM"
      },
      "execution_count": 6,
      "outputs": []
    },
    {
      "cell_type": "code",
      "source": [
        "#convolutionnal mdr\n",
        "class Generator(nn.Module):\n",
        "    def __init__(self):\n",
        "        super().__init__()\n",
        "        self.model = nn.Sequential(\n",
        "            # IN SHAPE (100,1,1)\n",
        "            nn.Conv2d(in_channels=100, out_channels=256, kernel_size=3,padding=\"same\"), #reverse un flatten ??\n",
        "            nn.LeakyReLU(0.2, inplace=True),\n",
        "            nn.Linear(256, 512),\n",
        "            nn.LeakyReLU(0.2, inplace=True),\n",
        "            nn.Linear(512, 1024),\n",
        "            nn.LeakyReLU(0.2, inplace=True),\n",
        "            nn.Linear(1024, 784),\n",
        "            nn.Tanh()\n",
        "        )\n",
        "    \n",
        "    def forward(self, x):\n",
        "        x = x.view(x.size(0), 100)\n",
        "        out = self.model(x)\n",
        "        return out"
      ],
      "metadata": {
        "id": "lChpw3CdiNYa"
      },
      "execution_count": null,
      "outputs": []
    },
    {
      "cell_type": "markdown",
      "metadata": {
        "id": "CfgWFp9Q6CjX"
      },
      "source": [
        "Once the class are written, we instantiate the networks."
      ]
    },
    {
      "cell_type": "code",
      "execution_count": 7,
      "metadata": {
        "id": "IRKxHK8X6CjX"
      },
      "outputs": [],
      "source": [
        "discriminator = Discriminator()\n",
        "generator = Generator()"
      ]
    },
    {
      "cell_type": "markdown",
      "metadata": {
        "id": "UAvh9s4e6CjY"
      },
      "source": [
        "Let's load some example data to go through the training steps. First we'll load the images and generate the labels. Note that the label for training the discriminator is not the number drawn in the image; it is simply 1 for all images from the real data set and 0 for all images from the generated set."
      ]
    },
    {
      "cell_type": "code",
      "execution_count": 8,
      "metadata": {
        "id": "BNEdxPqD6CjY"
      },
      "outputs": [],
      "source": [
        "images, _ = next(train_iterator)\n",
        "images = Variable(images)\n",
        "real_labels = Variable(torch.ones(images.size(0), 1))"
      ]
    },
    {
      "cell_type": "markdown",
      "metadata": {
        "id": "LqQTIwSD6CjZ"
      },
      "source": [
        "To use the generator, we create $p_z$ following a normal distribution."
      ]
    },
    {
      "cell_type": "code",
      "execution_count": 9,
      "metadata": {
        "id": "aO19SwwH6CjZ"
      },
      "outputs": [],
      "source": [
        "# Sample from generator\n",
        "noise = Variable(torch.randn(images.size(0), 100))\n",
        "fake_images = generator(noise)\n",
        "fake_labels = Variable(torch.zeros(images.size(0), 1))"
      ]
    },
    {
      "cell_type": "markdown",
      "metadata": {
        "id": "-tYPQPtN6CjZ"
      },
      "source": [
        "Let's see what sort of images our random generator creates."
      ]
    },
    {
      "cell_type": "code",
      "execution_count": 10,
      "metadata": {
        "id": "DBAfDwRN6CjZ",
        "outputId": "af269b27-f72c-4a19-eb46-c3bb36201563",
        "colab": {
          "base_uri": "https://localhost:8080/",
          "height": 248
        }
      },
      "outputs": [
        {
          "output_type": "display_data",
          "data": {
            "image/png": "[encoded data removed]",
            "text/plain": [
              "<Figure size 288x288 with 4 Axes>"
            ]
          },
          "metadata": {
            "needs_background": "light"
          }
        }
      ],
      "source": [
        "plt.figure(figsize=(4,4))\n",
        "for i in range(4):\n",
        "    plt.subplot(2, 2, i+1)\n",
        "    plt.imshow(fake_images[i,:].data.cpu().numpy().reshape(28, 28), cmap='Greys')\n",
        "    plt.axis('off')"
      ]
    },
    {
      "cell_type": "markdown",
      "metadata": {
        "id": "j8q2gxXn6Cja"
      },
      "source": [
        "As could be expected, the random generator gives random noise images. We shouldn't expect much of a difference from the discriminator, given that its random. However, since the MNIST distribution $x$ and generated distribution $D(x)$ are so clearly different, even a random discriminitor should have a different output given these two inputs."
      ]
    },
    {
      "cell_type": "code",
      "execution_count": 11,
      "metadata": {
        "id": "wLC9xu6z6Cja",
        "outputId": "bb885d67-1656-4143-823e-181f31eecf90",
        "colab": {
          "base_uri": "https://localhost:8080/"
        }
      },
      "outputs": [
        {
          "output_type": "execute_result",
          "data": {
            "text/plain": [
              "(array([[0.5161024 ],\n",
              "        [0.52593255],\n",
              "        [0.49582165],\n",
              "        [0.50611633],\n",
              "        [0.52392673]], dtype=float32), array([[0.5167669 ],\n",
              "        [0.5144349 ],\n",
              "        [0.51340306],\n",
              "        [0.5146709 ],\n",
              "        [0.5126843 ]], dtype=float32))"
            ]
          },
          "metadata": {},
          "execution_count": 11
        }
      ],
      "source": [
        "d_real = discriminator(images)\n",
        "d_fake = discriminator(fake_images)\n",
        "d_real.detach().numpy()[:5], d_fake.detach().numpy()[:5] #detach on sort du format torch"
      ]
    },
    {
      "cell_type": "markdown",
      "metadata": {
        "id": "aSCe2gKM6Cja"
      },
      "source": [
        "We'll now train the discriminator and generator."
      ]
    },
    {
      "cell_type": "markdown",
      "metadata": {
        "id": "QOZpli_S6Cja"
      },
      "source": [
        "## GAN Training"
      ]
    },
    {
      "cell_type": "markdown",
      "metadata": {
        "id": "QM2muPLe6Cjb"
      },
      "source": [
        "The loss function we'll use in training is the [Binary Cross-Entropy loss](https://pytorch.org/docs/stable/_modules/torch/nn/modules/loss.html#BCELoss). Looking at the PyTorch documentation, we can see that, by default, the `reduction` operator for $L$ is set to ``'mean'``, making the loss function:\n",
        "\n",
        "$\\ell(x, y) = L = \\frac{1}{N}\\sum\\{l_1,\\dots,l_N\\}$\n",
        "\n",
        "$l_n = - w_n \\left[ y_n \\cdot \\log x_n + (1 - y_n) \\cdot \\log (1 - x_n) \\right]$"
      ]
    },
    {
      "cell_type": "code",
      "execution_count": 12,
      "metadata": {
        "id": "CRI3Z-Ix6Cjb",
        "outputId": "27de98ed-15a9-4650-86aa-00bbf9f9937c",
        "colab": {
          "base_uri": "https://localhost:8080/"
        }
      },
      "outputs": [
        {
          "output_type": "execute_result",
          "data": {
            "text/plain": [
              "(tensor(0.6775, grad_fn=<BinaryCrossEntropyBackward0>),\n",
              " tensor(0.7240, grad_fn=<BinaryCrossEntropyBackward0>))"
            ]
          },
          "metadata": {},
          "execution_count": 12
        }
      ],
      "source": [
        "criterion = nn.BCELoss()\n",
        "criterion(d_real, real_labels), criterion(d_fake, fake_labels)"
      ]
    },
    {
      "cell_type": "markdown",
      "metadata": {
        "id": "LP2x-FdI6Cjb"
      },
      "source": [
        "This corresponds to the loss function defined above for the GAN:\n",
        "\n",
        "$$\\min_{G} \\max_{D} V(D,G)  = \\mathbb{E}_{x\\sim p_{data}}[log D(x)] + \\mathbb{E}_{z\\sim p_{z}}[log(1 - D(G(z)))]$$\n",
        "\n",
        "where for real data, $y_n$ is 1 and for generated data, $y_n$ is 0. We want the discriminator to predict 1 if the data is real and 0 if it is generated. This corresponds to the variables `real_labels` and `fake_labels`."
      ]
    },
    {
      "cell_type": "markdown",
      "metadata": {
        "id": "XeAYWQuw6Cjb"
      },
      "source": [
        "We'll also define the optimizers, simply using Adam for both the discriminiator and generator."
      ]
    },
    {
      "cell_type": "code",
      "execution_count": 13,
      "metadata": {
        "id": "f97hHLP96Cjb"
      },
      "outputs": [],
      "source": [
        "lr = 0.0002\n",
        "d_optimizer = torch.optim.Adam(discriminator.parameters(), lr=lr, betas=(0.5, 0.999))\n",
        "g_optimizer = torch.optim.Adam(generator.parameters(), lr=lr, betas=(0.5, 0.999))"
      ]
    },
    {
      "cell_type": "markdown",
      "metadata": {
        "id": "tLtJbKzR6Cjc"
      },
      "source": [
        "<div class=\"alert alert-success\">\n",
        "    <h2>Exercise 2.</h2>\n",
        "\n",
        "Write a training step for the discriminiator. The function definition is below. Fill in this missing components.\n",
        "</div>"
      ]
    },
    {
      "cell_type": "code",
      "execution_count": 14,
      "metadata": {
        "id": "kEiOEQlV6Cjc"
      },
      "outputs": [],
      "source": [
        "def train_discriminator(discriminator, images, real_labels, fake_images, fake_labels):\n",
        "    \"\"\"\n",
        "    Arguments:\n",
        "        discriminator: discriminator model object\n",
        "        images: a batch of data from the dataset\n",
        "        real_labels: a vector of ones, size of images\n",
        "        fake_images: a batch of images generated by the generator\n",
        "        fake_labels: a vector of zeros, size of fake_images\n",
        "    \n",
        "    Returns:\n",
        "        d_loss: discriminator loss\n",
        "        real_output: output of the discriminator on the real images\n",
        "        fake_output: output of the discrimiator on the fake images\n",
        "    \"\"\"    \n",
        "    discriminator.zero_grad()\n",
        "    # TODO: complete the code\n",
        "    outputs = discriminator(images)\n",
        "    real_loss = criterion(outputs, real_labels)\n",
        "    real_output = outputs\n",
        "\n",
        "    outputs = discriminator(fake_images)\n",
        "    fake_loss = criterion(outputs, fake_labels)\n",
        "    fake_output = outputs\n",
        "\n",
        "    d_loss = real_loss + fake_loss\n",
        "\n",
        "    d_loss.backward()\n",
        "    d_optimizer.step()\n",
        "    return d_loss, real_output, fake_output"
      ]
    },
    {
      "cell_type": "code",
      "execution_count": 15,
      "metadata": {
        "id": "c2_EOlwE6Cjc"
      },
      "outputs": [],
      "source": [
        "# %load solutions/2_train_d.py"
      ]
    },
    {
      "cell_type": "markdown",
      "metadata": {
        "id": "kIBHnCbD6Cjc"
      },
      "source": [
        "The second part of the min-max equation is the generator.\n",
        "\n",
        "$$\\min_{G} \\max_{D} V(D,G)  = \\mathbb{E}_{x\\sim p_{data}}[log D(x)] + \\mathbb{E}_{z\\sim p_{z}}[log(1 - D(G(z)))]$$\n",
        "\n",
        "Considering a static discriminator D, we have \n",
        "\n",
        "$$\\min_{G} V(D,G)  = \\mathbb{E}_{x\\sim p_{data}}[log D(x)] + \\mathbb{E}_{z\\sim p_{z}}[log(1 - D(G(z)))]$$\n",
        "\n",
        "However, the generator doesn't influence $\\mathbb{E}_{x\\sim p_{data}}[log D(x)]$. The generator's loss is therefore only\n",
        "\n",
        "$$\\min_{G} V(D,G)  = \\mathbb{E}_{z\\sim p_{z}}[log(1 - D(G(z)))]$$"
      ]
    },
    {
      "cell_type": "markdown",
      "metadata": {
        "id": "vzyNGs-56Cjc"
      },
      "source": [
        "Note that other loss metrics have been proposed for GANs to encourage more stable training. For example, at the beginning of training, the discriminator's job is easy and so it might train much faster than the generator, halting the adversarial training. In order to increase early gradients, it is proposed to maximize $log(D(G(z)))$ instead of minimizing $log(1-D(G(z)))$ for the generator."
      ]
    },
    {
      "cell_type": "markdown",
      "metadata": {
        "id": "nAOwh0BR6Cjc"
      },
      "source": [
        "Another loss function is using in the [Wasserstein GAN](https://arxiv.org/abs/1701.07875), which transforms the discriminator into a critic, outputting a real value which should be larger for real inputs than fake ones. The discriminator loss is then simply $D(x) - D(G(z))$ and the generator loss is $D(G(z))$."
      ]
    },
    {
      "cell_type": "markdown",
      "metadata": {
        "id": "G9lQj9WM6Cjd"
      },
      "source": [
        "<div class=\"alert alert-success\">\n",
        "    <h2>Exercise 3.</h2>\n",
        "\n",
        "Write a training step for the generator using the cross entropy loss. The function definition is below. Fill in this missing components.\n",
        "</div>"
      ]
    },
    {
      "cell_type": "code",
      "execution_count": 16,
      "metadata": {
        "id": "sDKOg4DD6Cjd"
      },
      "outputs": [],
      "source": [
        "def train_generator(generator, discriminator_outputs, real_labels):\n",
        "    \"\"\"\n",
        "    Arguments:\n",
        "        generator: generator model object\n",
        "        discriminator_outputs: ouput of the discriminator on a set of values z, D(G(z))\n",
        "        real_labels: a vector of ones, size of discriminator_outputs\n",
        "        \n",
        "    Returns:\n",
        "        g_loss: generator loss\n",
        "    \"\"\"\n",
        "    generator.zero_grad()\n",
        "    #TODO: complete the code\n",
        "\n",
        "    g_loss = criterion(discriminator_outputs,real_labels)\n",
        "\n",
        "    g_loss.backward()\n",
        "    g_optimizer.step()\n",
        "    return g_loss"
      ]
    },
    {
      "cell_type": "code",
      "execution_count": 17,
      "metadata": {
        "id": "jCNSq34X6Cjd"
      },
      "outputs": [],
      "source": [
        "# %load solutions/3_train_g.py"
      ]
    },
    {
      "cell_type": "markdown",
      "metadata": {
        "id": "rH1gQmUY6Cjd"
      },
      "source": [
        "# Model training\n",
        "\n",
        "We'll now use our training functions in an iterative process over multiple epochs."
      ]
    },
    {
      "cell_type": "markdown",
      "metadata": {
        "id": "gZ0PqO4I6Cjd"
      },
      "source": [
        "Due to the adversarial nature of GAN training, the different losses often oscillate over training instead of converging over time as we see in other deep learning training methods. As such, it is advised to frequently save results during training."
      ]
    },
    {
      "cell_type": "code",
      "source": [
        "os.path"
      ],
      "metadata": {
        "id": "Pnn98DwLJUZt",
        "outputId": "723447ae-47ef-410f-b00a-2d04b26409f9",
        "colab": {
          "base_uri": "https://localhost:8080/"
        }
      },
      "execution_count": 24,
      "outputs": [
        {
          "output_type": "execute_result",
          "data": {
            "text/plain": [
              "<module 'posixpath' from '/usr/lib/python3.7/posixpath.py'>"
            ]
          },
          "metadata": {},
          "execution_count": 24
        }
      ]
    },
    {
      "cell_type": "code",
      "execution_count": 19,
      "metadata": {
        "id": "gZhPP9m66Cjd"
      },
      "outputs": [],
      "source": [
        "# Prepare folder to store results\n",
        "if not os.path.exists('results'):\n",
        "    os.makedirs('results')\n",
        "    \n",
        "# Prepare folder to store models\n",
        "if not os.path.exists('models'):\n",
        "    os.makedirs('models')"
      ]
    },
    {
      "cell_type": "code",
      "execution_count": 20,
      "metadata": {
        "id": "8NuCJQla6Cje"
      },
      "outputs": [],
      "source": [
        "# Draw samples from the input distribution to inspect the generation on training \n",
        "num_test_samples = 16\n",
        "test_noise = Variable(torch.randn(num_test_samples, 100))\n",
        "# Set number of epochs and initialize figure counter\n",
        "num_epochs = 4\n",
        "num_batches = len(train_loader)\n",
        "# Set counter\n",
        "num_fig = 0"
      ]
    },
    {
      "cell_type": "code",
      "execution_count": 25,
      "metadata": {
        "id": "FCCBa9ZG6Cje",
        "outputId": "e0ff4fce-2abf-42f4-bbee-49f341d4dced",
        "colab": {
          "base_uri": "https://localhost:8080/",
          "height": 722
        }
      },
      "outputs": [
        {
          "output_type": "display_data",
          "data": {
            "image/png": "[encoded data removed]",
            "text/plain": [
              "<Figure size 432x432 with 16 Axes>"
            ]
          },
          "metadata": {}
        },
        {
          "output_type": "stream",
          "name": "stdout",
          "text": [
            "Epoch [4/4], Step[468/469], d_loss: 0.6195, g_loss: 1.9143, D(x): 0.81, D(G(z)): 0.21, time 5.79 min\n"
          ]
        },
        {
          "output_type": "display_data",
          "data": {
            "image/png": "[encoded data removed]",
            "text/plain": [
              "<Figure size 432x432 with 16 Axes>"
            ]
          },
          "metadata": {
            "needs_background": "light"
          }
        }
      ],
      "source": [
        "# Create figure for plotting\n",
        "size_figure_grid = int(math.sqrt(num_test_samples))\n",
        "fig, ax = plt.subplots(size_figure_grid, size_figure_grid, figsize=(6, 6))\n",
        "for i, j in itertools.product(range(size_figure_grid), range(size_figure_grid)):\n",
        "    ax[i,j].get_xaxis().set_visible(False)\n",
        "    ax[i,j].get_yaxis().set_visible(False)\n",
        "\n",
        "# saving the loss\n",
        "sav_dloss = []\n",
        "\n",
        "# Start training\n",
        "t0 = time.time()\n",
        "for epoch in range(num_epochs):\n",
        "    for n, (images, _) in enumerate(train_loader):\n",
        "\n",
        "        # Convert data to suitable format\n",
        "        images = Variable(images)\n",
        "        real_labels = Variable(torch.ones(images.size(0), 1))\n",
        "\n",
        "        # Sample from generator\n",
        "        noise = Variable(torch.randn(images.size(0), 100))\n",
        "        fake_images = generator(noise)\n",
        "        fake_labels = Variable(torch.zeros(images.size(0), 1))\n",
        "\n",
        "        # Train the discriminator\n",
        "        d_loss, real_score, fake_score = train_discriminator(\n",
        "            discriminator, images, real_labels, fake_images, fake_labels)\n",
        "        \n",
        "        sav_dloss.append(d_loss)\n",
        "\n",
        "        # Sample again from the generator and get output from discriminator\n",
        "        noise = Variable(torch.randn(images.size(0), 100))\n",
        "        fake_images = generator(noise)\n",
        "        outputs = discriminator(fake_images)\n",
        "\n",
        "        # Train the generator\n",
        "        g_loss = train_generator(generator, outputs, real_labels)\n",
        "\n",
        "        # Every half epoch generates pictures with to generator to monitor training\n",
        "        if (n+1) % int(num_batches/2) == 0:\n",
        "            # generate pictures\n",
        "            test_images = generator(test_noise)\n",
        "            # plot them\n",
        "            for k in range(num_test_samples):\n",
        "                i = k//4\n",
        "                j = k%4\n",
        "                ax[i,j].cla()\n",
        "                ax[i,j].imshow(test_images[k,:].data.cpu().numpy().reshape(28, 28),\n",
        "                               cmap='Greys')\n",
        "            display.clear_output(wait=True)\n",
        "            display.display(plt.gcf())\n",
        "\n",
        "            # save the picture\n",
        "            plt.savefig('results/mnist-gan-%03d.png'%num_fig)\n",
        "            num_fig += 1\n",
        "            # print log\n",
        "            print('Epoch [%d/%d], Step[%d/%d], d_loss: %.4f, g_loss: %.4f, '\n",
        "                  'D(x): %.2f, D(G(z)): %.2f, time %.2f min'\n",
        "                  % (epoch + 1, num_epochs, n+1, num_batches,\n",
        "                     d_loss.detach().numpy(), g_loss.detach().numpy(),\n",
        "                     real_score.detach().numpy().mean(),\n",
        "                     fake_score.detach().numpy().mean(), (time.time()-t0)/60))\n",
        "\n",
        "        # at the end of n epochs, save the models\n",
        "        if epoch % 2 == 0:\n",
        "            torch.save(generator.state_dict(),\n",
        "                    os.path.join('models', 'generator.pkl'))\n",
        "            torch.save(discriminator.state_dict(),\n",
        "                    os.path.join('models', 'discriminator.pkl'))\n"
      ]
    },
    {
      "cell_type": "code",
      "execution_count": 26,
      "metadata": {
        "id": "wzy1OaUt6Cjf",
        "outputId": "bbc010eb-4502-4c73-9367-eaea79b01f5f",
        "colab": {
          "base_uri": "https://localhost:8080/",
          "height": 282
        }
      },
      "outputs": [
        {
          "output_type": "execute_result",
          "data": {
            "text/plain": [
              "[<matplotlib.lines.Line2D at 0x7efd96381590>]"
            ]
          },
          "metadata": {},
          "execution_count": 26
        },
        {
          "output_type": "display_data",
          "data": {
            "image/png": "[encoded data removed]",
            "text/plain": [
              "<Figure size 432x288 with 1 Axes>"
            ]
          },
          "metadata": {
            "needs_background": "light"
          }
        }
      ],
      "source": [
        "plt.plot(sav_dloss)\n",
        "# convolutionnel\n",
        "# gan conditionnel\n",
        "# jeu de données celeba pour générer visages\n",
        "# wgan - transport optimal mais avec problème dual (discrimator 1 lipschitz)"
      ]
    }
  ],
  "metadata": {
    "@webio": {
      "lastCommId": null,
      "lastKernelId": null
    },
    "celltoolbar": "Slideshow",
    "kernelspec": {
      "display_name": "Python 3",
      "language": "python",
      "name": "python3"
    },
    "language_info": {
      "codemirror_mode": {
        "name": "ipython",
        "version": 3
      },
      "file_extension": ".py",
      "mimetype": "text/x-python",
      "name": "python",
      "nbconvert_exporter": "python",
      "pygments_lexer": "ipython3",
      "version": "3.8.6"
    },
    "colab": {
      "name": "Generative Adversarial Networks.ipynb",
      "provenance": []
    },
    "accelerator": "GPU",
    "widgets": {
      "application/vnd.jupyter.widget-state+json": {
        "cf3a652d68d64af5a898238584b2463c": {
          "model_module": "@jupyter-widgets/controls",
          "model_name": "HBoxModel",
          "model_module_version": "1.5.0",
          "state": {
            "_view_name": "HBoxView",
            "_dom_classes": [],
            "_model_name": "HBoxModel",
            "_view_module": "@jupyter-widgets/controls",
            "_model_module_version": "1.5.0",
            "_view_count": null,
            "_view_module_version": "1.5.0",
            "box_style": "",
            "layout": "IPY_MODEL_6212c5334e9a4456b2811ba851e2a3e4",
            "_model_module": "@jupyter-widgets/controls",
            "children": [
              "IPY_MODEL_32e3db15c3b7403db6a57c97b70d9cea",
              "IPY_MODEL_4e3bd4ae93c94a68be2a6558b001222b",
              "IPY_MODEL_ee0ca3e0c5b34356a1b3b70a3e03c9d2"
            ]
          }
        },
        "6212c5334e9a4456b2811ba851e2a3e4": {
          "model_module": "@jupyter-widgets/base",
          "model_name": "LayoutModel",
          "model_module_version": "1.2.0",
          "state": {
            "_view_name": "LayoutView",
            "grid_template_rows": null,
            "right": null,
            "justify_content": null,
            "_view_module": "@jupyter-widgets/base",
            "overflow": null,
            "_model_module_version": "1.2.0",
            "_view_count": null,
            "flex_flow": null,
            "width": null,
            "min_width": null,
            "border": null,
            "align_items": null,
            "bottom": null,
            "_model_module": "@jupyter-widgets/base",
            "top": null,
            "grid_column": null,
            "overflow_y": null,
            "overflow_x": null,
            "grid_auto_flow": null,
            "grid_area": null,
            "grid_template_columns": null,
            "flex": null,
            "_model_name": "LayoutModel",
            "justify_items": null,
            "grid_row": null,
            "max_height": null,
            "align_content": null,
            "visibility": null,
            "align_self": null,
            "height": null,
            "min_height": null,
            "padding": null,
            "grid_auto_rows": null,
            "grid_gap": null,
            "max_width": null,
            "order": null,
            "_view_module_version": "1.2.0",
            "grid_template_areas": null,
            "object_position": null,
            "object_fit": null,
            "grid_auto_columns": null,
            "margin": null,
            "display": null,
            "left": null
          }
        },
        "32e3db15c3b7403db6a57c97b70d9cea": {
          "model_module": "@jupyter-widgets/controls",
          "model_name": "HTMLModel",
          "model_module_version": "1.5.0",
          "state": {
            "_view_name": "HTMLView",
            "style": "IPY_MODEL_78251e3416414deaab5b8af17652c7f4",
            "_dom_classes": [],
            "description": "",
            "_model_name": "HTMLModel",
            "placeholder": "​",
            "_view_module": "@jupyter-widgets/controls",
            "_model_module_version": "1.5.0",
            "value": "",
            "_view_count": null,
            "_view_module_version": "1.5.0",
            "description_tooltip": null,
            "_model_module": "@jupyter-widgets/controls",
            "layout": "IPY_MODEL_1af04a1426ae4a3f95d7e23899dce116"
          }
        },
        "4e3bd4ae93c94a68be2a6558b001222b": {
          "model_module": "@jupyter-widgets/controls",
          "model_name": "FloatProgressModel",
          "model_module_version": "1.5.0",
          "state": {
            "_view_name": "ProgressView",
            "style": "IPY_MODEL_380062ce27f1487d82487af1a0a3b162",
            "_dom_classes": [],
            "description": "",
            "_model_name": "FloatProgressModel",
            "bar_style": "success",
            "max": 9912422,
            "_view_module": "@jupyter-widgets/controls",
            "_model_module_version": "1.5.0",
            "value": 9912422,
            "_view_count": null,
            "_view_module_version": "1.5.0",
            "orientation": "horizontal",
            "min": 0,
            "description_tooltip": null,
            "_model_module": "@jupyter-widgets/controls",
            "layout": "IPY_MODEL_fce6ef014c934085a7be9914f9d358be"
          }
        },
        "ee0ca3e0c5b34356a1b3b70a3e03c9d2": {
          "model_module": "@jupyter-widgets/controls",
          "model_name": "HTMLModel",
          "model_module_version": "1.5.0",
          "state": {
            "_view_name": "HTMLView",
            "style": "IPY_MODEL_4430606a06244a64b84d0f50fa2e2080",
            "_dom_classes": [],
            "description": "",
            "_model_name": "HTMLModel",
            "placeholder": "​",
            "_view_module": "@jupyter-widgets/controls",
            "_model_module_version": "1.5.0",
            "value": " 9913344/? [00:19&lt;00:00, 508875.12it/s]",
            "_view_count": null,
            "_view_module_version": "1.5.0",
            "description_tooltip": null,
            "_model_module": "@jupyter-widgets/controls",
            "layout": "IPY_MODEL_4faf8e0e1df44ed19df5da4b6e9383b7"
          }
        },
        "78251e3416414deaab5b8af17652c7f4": {
          "model_module": "@jupyter-widgets/controls",
          "model_name": "DescriptionStyleModel",
          "model_module_version": "1.5.0",
          "state": {
            "_view_name": "StyleView",
            "_model_name": "DescriptionStyleModel",
            "description_width": "",
            "_view_module": "@jupyter-widgets/base",
            "_model_module_version": "1.5.0",
            "_view_count": null,
            "_view_module_version": "1.2.0",
            "_model_module": "@jupyter-widgets/controls"
          }
        },
        "1af04a1426ae4a3f95d7e23899dce116": {
          "model_module": "@jupyter-widgets/base",
          "model_name": "LayoutModel",
          "model_module_version": "1.2.0",
          "state": {
            "_view_name": "LayoutView",
            "grid_template_rows": null,
            "right": null,
            "justify_content": null,
            "_view_module": "@jupyter-widgets/base",
            "overflow": null,
            "_model_module_version": "1.2.0",
            "_view_count": null,
            "flex_flow": null,
            "width": null,
            "min_width": null,
            "border": null,
            "align_items": null,
            "bottom": null,
            "_model_module": "@jupyter-widgets/base",
            "top": null,
            "grid_column": null,
            "overflow_y": null,
            "overflow_x": null,
            "grid_auto_flow": null,
            "grid_area": null,
            "grid_template_columns": null,
            "flex": null,
            "_model_name": "LayoutModel",
            "justify_items": null,
            "grid_row": null,
            "max_height": null,
            "align_content": null,
            "visibility": null,
            "align_self": null,
            "height": null,
            "min_height": null,
            "padding": null,
            "grid_auto_rows": null,
            "grid_gap": null,
            "max_width": null,
            "order": null,
            "_view_module_version": "1.2.0",
            "grid_template_areas": null,
            "object_position": null,
            "object_fit": null,
            "grid_auto_columns": null,
            "margin": null,
            "display": null,
            "left": null
          }
        },
        "380062ce27f1487d82487af1a0a3b162": {
          "model_module": "@jupyter-widgets/controls",
          "model_name": "ProgressStyleModel",
          "model_module_version": "1.5.0",
          "state": {
            "_view_name": "StyleView",
            "_model_name": "ProgressStyleModel",
            "description_width": "",
            "_view_module": "@jupyter-widgets/base",
            "_model_module_version": "1.5.0",
            "_view_count": null,
            "_view_module_version": "1.2.0",
            "bar_color": null,
            "_model_module": "@jupyter-widgets/controls"
          }
        },
        "fce6ef014c934085a7be9914f9d358be": {
          "model_module": "@jupyter-widgets/base",
          "model_name": "LayoutModel",
          "model_module_version": "1.2.0",
          "state": {
            "_view_name": "LayoutView",
            "grid_template_rows": null,
            "right": null,
            "justify_content": null,
            "_view_module": "@jupyter-widgets/base",
            "overflow": null,
            "_model_module_version": "1.2.0",
            "_view_count": null,
            "flex_flow": null,
            "width": null,
            "min_width": null,
            "border": null,
            "align_items": null,
            "bottom": null,
            "_model_module": "@jupyter-widgets/base",
            "top": null,
            "grid_column": null,
            "overflow_y": null,
            "overflow_x": null,
            "grid_auto_flow": null,
            "grid_area": null,
            "grid_template_columns": null,
            "flex": null,
            "_model_name": "LayoutModel",
            "justify_items": null,
            "grid_row": null,
            "max_height": null,
            "align_content": null,
            "visibility": null,
            "align_self": null,
            "height": null,
            "min_height": null,
            "padding": null,
            "grid_auto_rows": null,
            "grid_gap": null,
            "max_width": null,
            "order": null,
            "_view_module_version": "1.2.0",
            "grid_template_areas": null,
            "object_position": null,
            "object_fit": null,
            "grid_auto_columns": null,
            "margin": null,
            "display": null,
            "left": null
          }
        },
        "4430606a06244a64b84d0f50fa2e2080": {
          "model_module": "@jupyter-widgets/controls",
          "model_name": "DescriptionStyleModel",
          "model_module_version": "1.5.0",
          "state": {
            "_view_name": "StyleView",
            "_model_name": "DescriptionStyleModel",
            "description_width": "",
            "_view_module": "@jupyter-widgets/base",
            "_model_module_version": "1.5.0",
            "_view_count": null,
            "_view_module_version": "1.2.0",
            "_model_module": "@jupyter-widgets/controls"
          }
        },
        "4faf8e0e1df44ed19df5da4b6e9383b7": {
          "model_module": "@jupyter-widgets/base",
          "model_name": "LayoutModel",
          "model_module_version": "1.2.0",
          "state": {
            "_view_name": "LayoutView",
            "grid_template_rows": null,
            "right": null,
            "justify_content": null,
            "_view_module": "@jupyter-widgets/base",
            "overflow": null,
            "_model_module_version": "1.2.0",
            "_view_count": null,
            "flex_flow": null,
            "width": null,
            "min_width": null,
            "border": null,
            "align_items": null,
            "bottom": null,
            "_model_module": "@jupyter-widgets/base",
            "top": null,
            "grid_column": null,
            "overflow_y": null,
            "overflow_x": null,
            "grid_auto_flow": null,
            "grid_area": null,
            "grid_template_columns": null,
            "flex": null,
            "_model_name": "LayoutModel",
            "justify_items": null,
            "grid_row": null,
            "max_height": null,
            "align_content": null,
            "visibility": null,
            "align_self": null,
            "height": null,
            "min_height": null,
            "padding": null,
            "grid_auto_rows": null,
            "grid_gap": null,
            "max_width": null,
            "order": null,
            "_view_module_version": "1.2.0",
            "grid_template_areas": null,
            "object_position": null,
            "object_fit": null,
            "grid_auto_columns": null,
            "margin": null,
            "display": null,
            "left": null
          }
        },
        "ece40540ca9a481d994e7a127366cbed": {
          "model_module": "@jupyter-widgets/controls",
          "model_name": "HBoxModel",
          "model_module_version": "1.5.0",
          "state": {
            "_view_name": "HBoxView",
            "_dom_classes": [],
            "_model_name": "HBoxModel",
            "_view_module": "@jupyter-widgets/controls",
            "_model_module_version": "1.5.0",
            "_view_count": null,
            "_view_module_version": "1.5.0",
            "box_style": "",
            "layout": "IPY_MODEL_0f516cc726eb45d28f046e3d709c2544",
            "_model_module": "@jupyter-widgets/controls",
            "children": [
              "IPY_MODEL_c581b3573caf429b894e1c110b69e515",
              "IPY_MODEL_4fd62c7b3f844b88870351e886bc31dd",
              "IPY_MODEL_b4f4b8f7de21416296b5a687d4ca03ac"
            ]
          }
        },
        "0f516cc726eb45d28f046e3d709c2544": {
          "model_module": "@jupyter-widgets/base",
          "model_name": "LayoutModel",
          "model_module_version": "1.2.0",
          "state": {
            "_view_name": "LayoutView",
            "grid_template_rows": null,
            "right": null,
            "justify_content": null,
            "_view_module": "@jupyter-widgets/base",
            "overflow": null,
            "_model_module_version": "1.2.0",
            "_view_count": null,
            "flex_flow": null,
            "width": null,
            "min_width": null,
            "border": null,
            "align_items": null,
            "bottom": null,
            "_model_module": "@jupyter-widgets/base",
            "top": null,
            "grid_column": null,
            "overflow_y": null,
            "overflow_x": null,
            "grid_auto_flow": null,
            "grid_area": null,
            "grid_template_columns": null,
            "flex": null,
            "_model_name": "LayoutModel",
            "justify_items": null,
            "grid_row": null,
            "max_height": null,
            "align_content": null,
            "visibility": null,
            "align_self": null,
            "height": null,
            "min_height": null,
            "padding": null,
            "grid_auto_rows": null,
            "grid_gap": null,
            "max_width": null,
            "order": null,
            "_view_module_version": "1.2.0",
            "grid_template_areas": null,
            "object_position": null,
            "object_fit": null,
            "grid_auto_columns": null,
            "margin": null,
            "display": null,
            "left": null
          }
        },
        "c581b3573caf429b894e1c110b69e515": {
          "model_module": "@jupyter-widgets/controls",
          "model_name": "HTMLModel",
          "model_module_version": "1.5.0",
          "state": {
            "_view_name": "HTMLView",
            "style": "IPY_MODEL_383236b47ed94646a6d5ab9a08325406",
            "_dom_classes": [],
            "description": "",
            "_model_name": "HTMLModel",
            "placeholder": "​",
            "_view_module": "@jupyter-widgets/controls",
            "_model_module_version": "1.5.0",
            "value": "",
            "_view_count": null,
            "_view_module_version": "1.5.0",
            "description_tooltip": null,
            "_model_module": "@jupyter-widgets/controls",
            "layout": "IPY_MODEL_9395a45de78041088fc7b413b39fb205"
          }
        },
        "4fd62c7b3f844b88870351e886bc31dd": {
          "model_module": "@jupyter-widgets/controls",
          "model_name": "FloatProgressModel",
          "model_module_version": "1.5.0",
          "state": {
            "_view_name": "ProgressView",
            "style": "IPY_MODEL_51a6a858f6944ee9b385fda0cf30ca48",
            "_dom_classes": [],
            "description": "",
            "_model_name": "FloatProgressModel",
            "bar_style": "success",
            "max": 28881,
            "_view_module": "@jupyter-widgets/controls",
            "_model_module_version": "1.5.0",
            "value": 28881,
            "_view_count": null,
            "_view_module_version": "1.5.0",
            "orientation": "horizontal",
            "min": 0,
            "description_tooltip": null,
            "_model_module": "@jupyter-widgets/controls",
            "layout": "IPY_MODEL_b1c3b75785cc443e9f6c60f73556cc94"
          }
        },
        "b4f4b8f7de21416296b5a687d4ca03ac": {
          "model_module": "@jupyter-widgets/controls",
          "model_name": "HTMLModel",
          "model_module_version": "1.5.0",
          "state": {
            "_view_name": "HTMLView",
            "style": "IPY_MODEL_cadf79e5fc6247c3bd07afb107c3da97",
            "_dom_classes": [],
            "description": "",
            "_model_name": "HTMLModel",
            "placeholder": "​",
            "_view_module": "@jupyter-widgets/controls",
            "_model_module_version": "1.5.0",
            "value": " 29696/? [00:00&lt;00:00, 691713.33it/s]",
            "_view_count": null,
            "_view_module_version": "1.5.0",
            "description_tooltip": null,
            "_model_module": "@jupyter-widgets/controls",
            "layout": "IPY_MODEL_390d10b56dfd483683c283507e23ce23"
          }
        },
        "383236b47ed94646a6d5ab9a08325406": {
          "model_module": "@jupyter-widgets/controls",
          "model_name": "DescriptionStyleModel",
          "model_module_version": "1.5.0",
          "state": {
            "_view_name": "StyleView",
            "_model_name": "DescriptionStyleModel",
            "description_width": "",
            "_view_module": "@jupyter-widgets/base",
            "_model_module_version": "1.5.0",
            "_view_count": null,
            "_view_module_version": "1.2.0",
            "_model_module": "@jupyter-widgets/controls"
          }
        },
        "9395a45de78041088fc7b413b39fb205": {
          "model_module": "@jupyter-widgets/base",
          "model_name": "LayoutModel",
          "model_module_version": "1.2.0",
          "state": {
            "_view_name": "LayoutView",
            "grid_template_rows": null,
            "right": null,
            "justify_content": null,
            "_view_module": "@jupyter-widgets/base",
            "overflow": null,
            "_model_module_version": "1.2.0",
            "_view_count": null,
            "flex_flow": null,
            "width": null,
            "min_width": null,
            "border": null,
            "align_items": null,
            "bottom": null,
            "_model_module": "@jupyter-widgets/base",
            "top": null,
            "grid_column": null,
            "overflow_y": null,
            "overflow_x": null,
            "grid_auto_flow": null,
            "grid_area": null,
            "grid_template_columns": null,
            "flex": null,
            "_model_name": "LayoutModel",
            "justify_items": null,
            "grid_row": null,
            "max_height": null,
            "align_content": null,
            "visibility": null,
            "align_self": null,
            "height": null,
            "min_height": null,
            "padding": null,
            "grid_auto_rows": null,
            "grid_gap": null,
            "max_width": null,
            "order": null,
            "_view_module_version": "1.2.0",
            "grid_template_areas": null,
            "object_position": null,
            "object_fit": null,
            "grid_auto_columns": null,
            "margin": null,
            "display": null,
            "left": null
          }
        },
        "51a6a858f6944ee9b385fda0cf30ca48": {
          "model_module": "@jupyter-widgets/controls",
          "model_name": "ProgressStyleModel",
          "model_module_version": "1.5.0",
          "state": {
            "_view_name": "StyleView",
            "_model_name": "ProgressStyleModel",
            "description_width": "",
            "_view_module": "@jupyter-widgets/base",
            "_model_module_version": "1.5.0",
            "_view_count": null,
            "_view_module_version": "1.2.0",
            "bar_color": null,
            "_model_module": "@jupyter-widgets/controls"
          }
        },
        "b1c3b75785cc443e9f6c60f73556cc94": {
          "model_module": "@jupyter-widgets/base",
          "model_name": "LayoutModel",
          "model_module_version": "1.2.0",
          "state": {
            "_view_name": "LayoutView",
            "grid_template_rows": null,
            "right": null,
            "justify_content": null,
            "_view_module": "@jupyter-widgets/base",
            "overflow": null,
            "_model_module_version": "1.2.0",
            "_view_count": null,
            "flex_flow": null,
            "width": null,
            "min_width": null,
            "border": null,
            "align_items": null,
            "bottom": null,
            "_model_module": "@jupyter-widgets/base",
            "top": null,
            "grid_column": null,
            "overflow_y": null,
            "overflow_x": null,
            "grid_auto_flow": null,
            "grid_area": null,
            "grid_template_columns": null,
            "flex": null,
            "_model_name": "LayoutModel",
            "justify_items": null,
            "grid_row": null,
            "max_height": null,
            "align_content": null,
            "visibility": null,
            "align_self": null,
            "height": null,
            "min_height": null,
            "padding": null,
            "grid_auto_rows": null,
            "grid_gap": null,
            "max_width": null,
            "order": null,
            "_view_module_version": "1.2.0",
            "grid_template_areas": null,
            "object_position": null,
            "object_fit": null,
            "grid_auto_columns": null,
            "margin": null,
            "display": null,
            "left": null
          }
        },
        "cadf79e5fc6247c3bd07afb107c3da97": {
          "model_module": "@jupyter-widgets/controls",
          "model_name": "DescriptionStyleModel",
          "model_module_version": "1.5.0",
          "state": {
            "_view_name": "StyleView",
            "_model_name": "DescriptionStyleModel",
            "description_width": "",
            "_view_module": "@jupyter-widgets/base",
            "_model_module_version": "1.5.0",
            "_view_count": null,
            "_view_module_version": "1.2.0",
            "_model_module": "@jupyter-widgets/controls"
          }
        },
        "390d10b56dfd483683c283507e23ce23": {
          "model_module": "@jupyter-widgets/base",
          "model_name": "LayoutModel",
          "model_module_version": "1.2.0",
          "state": {
            "_view_name": "LayoutView",
            "grid_template_rows": null,
            "right": null,
            "justify_content": null,
            "_view_module": "@jupyter-widgets/base",
            "overflow": null,
            "_model_module_version": "1.2.0",
            "_view_count": null,
            "flex_flow": null,
            "width": null,
            "min_width": null,
            "border": null,
            "align_items": null,
            "bottom": null,
            "_model_module": "@jupyter-widgets/base",
            "top": null,
            "grid_column": null,
            "overflow_y": null,
            "overflow_x": null,
            "grid_auto_flow": null,
            "grid_area": null,
            "grid_template_columns": null,
            "flex": null,
            "_model_name": "LayoutModel",
            "justify_items": null,
            "grid_row": null,
            "max_height": null,
            "align_content": null,
            "visibility": null,
            "align_self": null,
            "height": null,
            "min_height": null,
            "padding": null,
            "grid_auto_rows": null,
            "grid_gap": null,
            "max_width": null,
            "order": null,
            "_view_module_version": "1.2.0",
            "grid_template_areas": null,
            "object_position": null,
            "object_fit": null,
            "grid_auto_columns": null,
            "margin": null,
            "display": null,
            "left": null
          }
        },
        "eaa9e1a187ef493f8c9fb0a384c10969": {
          "model_module": "@jupyter-widgets/controls",
          "model_name": "HBoxModel",
          "model_module_version": "1.5.0",
          "state": {
            "_view_name": "HBoxView",
            "_dom_classes": [],
            "_model_name": "HBoxModel",
            "_view_module": "@jupyter-widgets/controls",
            "_model_module_version": "1.5.0",
            "_view_count": null,
            "_view_module_version": "1.5.0",
            "box_style": "",
            "layout": "IPY_MODEL_8a6551727d68464099249faf081562dc",
            "_model_module": "@jupyter-widgets/controls",
            "children": [
              "IPY_MODEL_7c01a4665c7d4edf8515edde29c85934",
              "IPY_MODEL_3b7104147efa442cb5a5ef4372fc810e",
              "IPY_MODEL_66e7a372a1454851966b30333cec1d8c"
            ]
          }
        },
        "8a6551727d68464099249faf081562dc": {
          "model_module": "@jupyter-widgets/base",
          "model_name": "LayoutModel",
          "model_module_version": "1.2.0",
          "state": {
            "_view_name": "LayoutView",
            "grid_template_rows": null,
            "right": null,
            "justify_content": null,
            "_view_module": "@jupyter-widgets/base",
            "overflow": null,
            "_model_module_version": "1.2.0",
            "_view_count": null,
            "flex_flow": null,
            "width": null,
            "min_width": null,
            "border": null,
            "align_items": null,
            "bottom": null,
            "_model_module": "@jupyter-widgets/base",
            "top": null,
            "grid_column": null,
            "overflow_y": null,
            "overflow_x": null,
            "grid_auto_flow": null,
            "grid_area": null,
            "grid_template_columns": null,
            "flex": null,
            "_model_name": "LayoutModel",
            "justify_items": null,
            "grid_row": null,
            "max_height": null,
            "align_content": null,
            "visibility": null,
            "align_self": null,
            "height": null,
            "min_height": null,
            "padding": null,
            "grid_auto_rows": null,
            "grid_gap": null,
            "max_width": null,
            "order": null,
            "_view_module_version": "1.2.0",
            "grid_template_areas": null,
            "object_position": null,
            "object_fit": null,
            "grid_auto_columns": null,
            "margin": null,
            "display": null,
            "left": null
          }
        },
        "7c01a4665c7d4edf8515edde29c85934": {
          "model_module": "@jupyter-widgets/controls",
          "model_name": "HTMLModel",
          "model_module_version": "1.5.0",
          "state": {
            "_view_name": "HTMLView",
            "style": "IPY_MODEL_70c3c92556fb462399e201e065cb2d42",
            "_dom_classes": [],
            "description": "",
            "_model_name": "HTMLModel",
            "placeholder": "​",
            "_view_module": "@jupyter-widgets/controls",
            "_model_module_version": "1.5.0",
            "value": "",
            "_view_count": null,
            "_view_module_version": "1.5.0",
            "description_tooltip": null,
            "_model_module": "@jupyter-widgets/controls",
            "layout": "IPY_MODEL_0d139151fb6e428e869f9a180ca9b817"
          }
        },
        "3b7104147efa442cb5a5ef4372fc810e": {
          "model_module": "@jupyter-widgets/controls",
          "model_name": "FloatProgressModel",
          "model_module_version": "1.5.0",
          "state": {
            "_view_name": "ProgressView",
            "style": "IPY_MODEL_cfe7999e161c4fbf9c2deef7ab86d17b",
            "_dom_classes": [],
            "description": "",
            "_model_name": "FloatProgressModel",
            "bar_style": "success",
            "max": 1648877,
            "_view_module": "@jupyter-widgets/controls",
            "_model_module_version": "1.5.0",
            "value": 1648877,
            "_view_count": null,
            "_view_module_version": "1.5.0",
            "orientation": "horizontal",
            "min": 0,
            "description_tooltip": null,
            "_model_module": "@jupyter-widgets/controls",
            "layout": "IPY_MODEL_3a370e6f805e4b36b0375017f82e3f82"
          }
        },
        "66e7a372a1454851966b30333cec1d8c": {
          "model_module": "@jupyter-widgets/controls",
          "model_name": "HTMLModel",
          "model_module_version": "1.5.0",
          "state": {
            "_view_name": "HTMLView",
            "style": "IPY_MODEL_7f4a3152e1cf41c4843c37d13eb1d369",
            "_dom_classes": [],
            "description": "",
            "_model_name": "HTMLModel",
            "placeholder": "​",
            "_view_module": "@jupyter-widgets/controls",
            "_model_module_version": "1.5.0",
            "value": " 1649664/? [00:03&lt;00:00, 510635.33it/s]",
            "_view_count": null,
            "_view_module_version": "1.5.0",
            "description_tooltip": null,
            "_model_module": "@jupyter-widgets/controls",
            "layout": "IPY_MODEL_e7b9f133017f4bcea35429ecba219567"
          }
        },
        "70c3c92556fb462399e201e065cb2d42": {
          "model_module": "@jupyter-widgets/controls",
          "model_name": "DescriptionStyleModel",
          "model_module_version": "1.5.0",
          "state": {
            "_view_name": "StyleView",
            "_model_name": "DescriptionStyleModel",
            "description_width": "",
            "_view_module": "@jupyter-widgets/base",
            "_model_module_version": "1.5.0",
            "_view_count": null,
            "_view_module_version": "1.2.0",
            "_model_module": "@jupyter-widgets/controls"
          }
        },
        "0d139151fb6e428e869f9a180ca9b817": {
          "model_module": "@jupyter-widgets/base",
          "model_name": "LayoutModel",
          "model_module_version": "1.2.0",
          "state": {
            "_view_name": "LayoutView",
            "grid_template_rows": null,
            "right": null,
            "justify_content": null,
            "_view_module": "@jupyter-widgets/base",
            "overflow": null,
            "_model_module_version": "1.2.0",
            "_view_count": null,
            "flex_flow": null,
            "width": null,
            "min_width": null,
            "border": null,
            "align_items": null,
            "bottom": null,
            "_model_module": "@jupyter-widgets/base",
            "top": null,
            "grid_column": null,
            "overflow_y": null,
            "overflow_x": null,
            "grid_auto_flow": null,
            "grid_area": null,
            "grid_template_columns": null,
            "flex": null,
            "_model_name": "LayoutModel",
            "justify_items": null,
            "grid_row": null,
            "max_height": null,
            "align_content": null,
            "visibility": null,
            "align_self": null,
            "height": null,
            "min_height": null,
            "padding": null,
            "grid_auto_rows": null,
            "grid_gap": null,
            "max_width": null,
            "order": null,
            "_view_module_version": "1.2.0",
            "grid_template_areas": null,
            "object_position": null,
            "object_fit": null,
            "grid_auto_columns": null,
            "margin": null,
            "display": null,
            "left": null
          }
        },
        "cfe7999e161c4fbf9c2deef7ab86d17b": {
          "model_module": "@jupyter-widgets/controls",
          "model_name": "ProgressStyleModel",
          "model_module_version": "1.5.0",
          "state": {
            "_view_name": "StyleView",
            "_model_name": "ProgressStyleModel",
            "description_width": "",
            "_view_module": "@jupyter-widgets/base",
            "_model_module_version": "1.5.0",
            "_view_count": null,
            "_view_module_version": "1.2.0",
            "bar_color": null,
            "_model_module": "@jupyter-widgets/controls"
          }
        },
        "3a370e6f805e4b36b0375017f82e3f82": {
          "model_module": "@jupyter-widgets/base",
          "model_name": "LayoutModel",
          "model_module_version": "1.2.0",
          "state": {
            "_view_name": "LayoutView",
            "grid_template_rows": null,
            "right": null,
            "justify_content": null,
            "_view_module": "@jupyter-widgets/base",
            "overflow": null,
            "_model_module_version": "1.2.0",
            "_view_count": null,
            "flex_flow": null,
            "width": null,
            "min_width": null,
            "border": null,
            "align_items": null,
            "bottom": null,
            "_model_module": "@jupyter-widgets/base",
            "top": null,
            "grid_column": null,
            "overflow_y": null,
            "overflow_x": null,
            "grid_auto_flow": null,
            "grid_area": null,
            "grid_template_columns": null,
            "flex": null,
            "_model_name": "LayoutModel",
            "justify_items": null,
            "grid_row": null,
            "max_height": null,
            "align_content": null,
            "visibility": null,
            "align_self": null,
            "height": null,
            "min_height": null,
            "padding": null,
            "grid_auto_rows": null,
            "grid_gap": null,
            "max_width": null,
            "order": null,
            "_view_module_version": "1.2.0",
            "grid_template_areas": null,
            "object_position": null,
            "object_fit": null,
            "grid_auto_columns": null,
            "margin": null,
            "display": null,
            "left": null
          }
        },
        "7f4a3152e1cf41c4843c37d13eb1d369": {
          "model_module": "@jupyter-widgets/controls",
          "model_name": "DescriptionStyleModel",
          "model_module_version": "1.5.0",
          "state": {
            "_view_name": "StyleView",
            "_model_name": "DescriptionStyleModel",
            "description_width": "",
            "_view_module": "@jupyter-widgets/base",
            "_model_module_version": "1.5.0",
            "_view_count": null,
            "_view_module_version": "1.2.0",
            "_model_module": "@jupyter-widgets/controls"
          }
        },
        "e7b9f133017f4bcea35429ecba219567": {
          "model_module": "@jupyter-widgets/base",
          "model_name": "LayoutModel",
          "model_module_version": "1.2.0",
          "state": {
            "_view_name": "LayoutView",
            "grid_template_rows": null,
            "right": null,
            "justify_content": null,
            "_view_module": "@jupyter-widgets/base",
            "overflow": null,
            "_model_module_version": "1.2.0",
            "_view_count": null,
            "flex_flow": null,
            "width": null,
            "min_width": null,
            "border": null,
            "align_items": null,
            "bottom": null,
            "_model_module": "@jupyter-widgets/base",
            "top": null,
            "grid_column": null,
            "overflow_y": null,
            "overflow_x": null,
            "grid_auto_flow": null,
            "grid_area": null,
            "grid_template_columns": null,
            "flex": null,
            "_model_name": "LayoutModel",
            "justify_items": null,
            "grid_row": null,
            "max_height": null,
            "align_content": null,
            "visibility": null,
            "align_self": null,
            "height": null,
            "min_height": null,
            "padding": null,
            "grid_auto_rows": null,
            "grid_gap": null,
            "max_width": null,
            "order": null,
            "_view_module_version": "1.2.0",
            "grid_template_areas": null,
            "object_position": null,
            "object_fit": null,
            "grid_auto_columns": null,
            "margin": null,
            "display": null,
            "left": null
          }
        },
        "a7a99bc909fd4e47b3dafce2584be4e0": {
          "model_module": "@jupyter-widgets/controls",
          "model_name": "HBoxModel",
          "model_module_version": "1.5.0",
          "state": {
            "_view_name": "HBoxView",
            "_dom_classes": [],
            "_model_name": "HBoxModel",
            "_view_module": "@jupyter-widgets/controls",
            "_model_module_version": "1.5.0",
            "_view_count": null,
            "_view_module_version": "1.5.0",
            "box_style": "",
            "layout": "IPY_MODEL_c031622cecd849e3a348830d6e4d4907",
            "_model_module": "@jupyter-widgets/controls",
            "children": [
              "IPY_MODEL_d3528305a3bd4ae6aa9f3e8d45728899",
              "IPY_MODEL_b589ab1068f647209a28dae2871a0629",
              "IPY_MODEL_4fcf0d4ec494401598b0d301d99e4869"
            ]
          }
        },
        "c031622cecd849e3a348830d6e4d4907": {
          "model_module": "@jupyter-widgets/base",
          "model_name": "LayoutModel",
          "model_module_version": "1.2.0",
          "state": {
            "_view_name": "LayoutView",
            "grid_template_rows": null,
            "right": null,
            "justify_content": null,
            "_view_module": "@jupyter-widgets/base",
            "overflow": null,
            "_model_module_version": "1.2.0",
            "_view_count": null,
            "flex_flow": null,
            "width": null,
            "min_width": null,
            "border": null,
            "align_items": null,
            "bottom": null,
            "_model_module": "@jupyter-widgets/base",
            "top": null,
            "grid_column": null,
            "overflow_y": null,
            "overflow_x": null,
            "grid_auto_flow": null,
            "grid_area": null,
            "grid_template_columns": null,
            "flex": null,
            "_model_name": "LayoutModel",
            "justify_items": null,
            "grid_row": null,
            "max_height": null,
            "align_content": null,
            "visibility": null,
            "align_self": null,
            "height": null,
            "min_height": null,
            "padding": null,
            "grid_auto_rows": null,
            "grid_gap": null,
            "max_width": null,
            "order": null,
            "_view_module_version": "1.2.0",
            "grid_template_areas": null,
            "object_position": null,
            "object_fit": null,
            "grid_auto_columns": null,
            "margin": null,
            "display": null,
            "left": null
          }
        },
        "d3528305a3bd4ae6aa9f3e8d45728899": {
          "model_module": "@jupyter-widgets/controls",
          "model_name": "HTMLModel",
          "model_module_version": "1.5.0",
          "state": {
            "_view_name": "HTMLView",
            "style": "IPY_MODEL_d707ca14f80246058734f18d199aef00",
            "_dom_classes": [],
            "description": "",
            "_model_name": "HTMLModel",
            "placeholder": "​",
            "_view_module": "@jupyter-widgets/controls",
            "_model_module_version": "1.5.0",
            "value": "",
            "_view_count": null,
            "_view_module_version": "1.5.0",
            "description_tooltip": null,
            "_model_module": "@jupyter-widgets/controls",
            "layout": "IPY_MODEL_d7e26b5061e84a2b80c0ef0b10cd9f0c"
          }
        },
        "b589ab1068f647209a28dae2871a0629": {
          "model_module": "@jupyter-widgets/controls",
          "model_name": "FloatProgressModel",
          "model_module_version": "1.5.0",
          "state": {
            "_view_name": "ProgressView",
            "style": "IPY_MODEL_eb293f8ad539473d8b6fbdef9202e0f8",
            "_dom_classes": [],
            "description": "",
            "_model_name": "FloatProgressModel",
            "bar_style": "success",
            "max": 4542,
            "_view_module": "@jupyter-widgets/controls",
            "_model_module_version": "1.5.0",
            "value": 4542,
            "_view_count": null,
            "_view_module_version": "1.5.0",
            "orientation": "horizontal",
            "min": 0,
            "description_tooltip": null,
            "_model_module": "@jupyter-widgets/controls",
            "layout": "IPY_MODEL_36e8dcfa8bf14d43ab171acd5b67d7bc"
          }
        },
        "4fcf0d4ec494401598b0d301d99e4869": {
          "model_module": "@jupyter-widgets/controls",
          "model_name": "HTMLModel",
          "model_module_version": "1.5.0",
          "state": {
            "_view_name": "HTMLView",
            "style": "IPY_MODEL_1f249e70903e4b1aa5c56dcc1bc386e1",
            "_dom_classes": [],
            "description": "",
            "_model_name": "HTMLModel",
            "placeholder": "​",
            "_view_module": "@jupyter-widgets/controls",
            "_model_module_version": "1.5.0",
            "value": " 5120/? [00:00&lt;00:00, 136900.11it/s]",
            "_view_count": null,
            "_view_module_version": "1.5.0",
            "description_tooltip": null,
            "_model_module": "@jupyter-widgets/controls",
            "layout": "IPY_MODEL_6284d5f7ed964b429a26b5bdb84c1ef5"
          }
        },
        "d707ca14f80246058734f18d199aef00": {
          "model_module": "@jupyter-widgets/controls",
          "model_name": "DescriptionStyleModel",
          "model_module_version": "1.5.0",
          "state": {
            "_view_name": "StyleView",
            "_model_name": "DescriptionStyleModel",
            "description_width": "",
            "_view_module": "@jupyter-widgets/base",
            "_model_module_version": "1.5.0",
            "_view_count": null,
            "_view_module_version": "1.2.0",
            "_model_module": "@jupyter-widgets/controls"
          }
        },
        "d7e26b5061e84a2b80c0ef0b10cd9f0c": {
          "model_module": "@jupyter-widgets/base",
          "model_name": "LayoutModel",
          "model_module_version": "1.2.0",
          "state": {
            "_view_name": "LayoutView",
            "grid_template_rows": null,
            "right": null,
            "justify_content": null,
            "_view_module": "@jupyter-widgets/base",
            "overflow": null,
            "_model_module_version": "1.2.0",
            "_view_count": null,
            "flex_flow": null,
            "width": null,
            "min_width": null,
            "border": null,
            "align_items": null,
            "bottom": null,
            "_model_module": "@jupyter-widgets/base",
            "top": null,
            "grid_column": null,
            "overflow_y": null,
            "overflow_x": null,
            "grid_auto_flow": null,
            "grid_area": null,
            "grid_template_columns": null,
            "flex": null,
            "_model_name": "LayoutModel",
            "justify_items": null,
            "grid_row": null,
            "max_height": null,
            "align_content": null,
            "visibility": null,
            "align_self": null,
            "height": null,
            "min_height": null,
            "padding": null,
            "grid_auto_rows": null,
            "grid_gap": null,
            "max_width": null,
            "order": null,
            "_view_module_version": "1.2.0",
            "grid_template_areas": null,
            "object_position": null,
            "object_fit": null,
            "grid_auto_columns": null,
            "margin": null,
            "display": null,
            "left": null
          }
        },
        "eb293f8ad539473d8b6fbdef9202e0f8": {
          "model_module": "@jupyter-widgets/controls",
          "model_name": "ProgressStyleModel",
          "model_module_version": "1.5.0",
          "state": {
            "_view_name": "StyleView",
            "_model_name": "ProgressStyleModel",
            "description_width": "",
            "_view_module": "@jupyter-widgets/base",
            "_model_module_version": "1.5.0",
            "_view_count": null,
            "_view_module_version": "1.2.0",
            "bar_color": null,
            "_model_module": "@jupyter-widgets/controls"
          }
        },
        "36e8dcfa8bf14d43ab171acd5b67d7bc": {
          "model_module": "@jupyter-widgets/base",
          "model_name": "LayoutModel",
          "model_module_version": "1.2.0",
          "state": {
            "_view_name": "LayoutView",
            "grid_template_rows": null,
            "right": null,
            "justify_content": null,
            "_view_module": "@jupyter-widgets/base",
            "overflow": null,
            "_model_module_version": "1.2.0",
            "_view_count": null,
            "flex_flow": null,
            "width": null,
            "min_width": null,
            "border": null,
            "align_items": null,
            "bottom": null,
            "_model_module": "@jupyter-widgets/base",
            "top": null,
            "grid_column": null,
            "overflow_y": null,
            "overflow_x": null,
            "grid_auto_flow": null,
            "grid_area": null,
            "grid_template_columns": null,
            "flex": null,
            "_model_name": "LayoutModel",
            "justify_items": null,
            "grid_row": null,
            "max_height": null,
            "align_content": null,
            "visibility": null,
            "align_self": null,
            "height": null,
            "min_height": null,
            "padding": null,
            "grid_auto_rows": null,
            "grid_gap": null,
            "max_width": null,
            "order": null,
            "_view_module_version": "1.2.0",
            "grid_template_areas": null,
            "object_position": null,
            "object_fit": null,
            "grid_auto_columns": null,
            "margin": null,
            "display": null,
            "left": null
          }
        },
        "1f249e70903e4b1aa5c56dcc1bc386e1": {
          "model_module": "@jupyter-widgets/controls",
          "model_name": "DescriptionStyleModel",
          "model_module_version": "1.5.0",
          "state": {
            "_view_name": "StyleView",
            "_model_name": "DescriptionStyleModel",
            "description_width": "",
            "_view_module": "@jupyter-widgets/base",
            "_model_module_version": "1.5.0",
            "_view_count": null,
            "_view_module_version": "1.2.0",
            "_model_module": "@jupyter-widgets/controls"
          }
        },
        "6284d5f7ed964b429a26b5bdb84c1ef5": {
          "model_module": "@jupyter-widgets/base",
          "model_name": "LayoutModel",
          "model_module_version": "1.2.0",
          "state": {
            "_view_name": "LayoutView",
            "grid_template_rows": null,
            "right": null,
            "justify_content": null,
            "_view_module": "@jupyter-widgets/base",
            "overflow": null,
            "_model_module_version": "1.2.0",
            "_view_count": null,
            "flex_flow": null,
            "width": null,
            "min_width": null,
            "border": null,
            "align_items": null,
            "bottom": null,
            "_model_module": "@jupyter-widgets/base",
            "top": null,
            "grid_column": null,
            "overflow_y": null,
            "overflow_x": null,
            "grid_auto_flow": null,
            "grid_area": null,
            "grid_template_columns": null,
            "flex": null,
            "_model_name": "LayoutModel",
            "justify_items": null,
            "grid_row": null,
            "max_height": null,
            "align_content": null,
            "visibility": null,
            "align_self": null,
            "height": null,
            "min_height": null,
            "padding": null,
            "grid_auto_rows": null,
            "grid_gap": null,
            "max_width": null,
            "order": null,
            "_view_module_version": "1.2.0",
            "grid_template_areas": null,
            "object_position": null,
            "object_fit": null,
            "grid_auto_columns": null,
            "margin": null,
            "display": null,
            "left": null
          }
        }
      }
    }
  },
  "nbformat": 4,
  "nbformat_minor": 0
}